{
 "cells": [
  {
   "cell_type": "code",
   "execution_count": 33,
   "id": "6ebdeeff-9482-4d40-a4c6-8d9d593b71e2",
   "metadata": {},
   "outputs": [],
   "source": [
    "import numpy as np\n",
    "import os\n",
    "import torch\n",
    "from torch.utils.data import DataLoader\n",
    "import wandb\n",
    "\n",
    "from camera import world_to_camera, normalize_screen_coordinates\n",
    "from humaneva_dataset import HumanEvaDataset\n",
    "from loss import mpjpe\n",
    "from model import FrameModel\n",
    "from run import run\n",
    "from preprocessed_dataset import PreprocessedDataset\n",
    "from main import Args, fetch\n",
    "from visualization import visualize"
   ]
  },
  {
   "cell_type": "code",
   "execution_count": 35,
   "id": "253c4952-d9c3-4026-b824-c61ed29aad62",
   "metadata": {},
   "outputs": [],
   "source": [
    "args = Args()\n",
    "he_dataset = HumanEvaDataset(args.dataset_path)\n",
    "\n",
    "# convert 3D pose world coordinates to camera coordinates\n",
    "for subject in he_dataset.subjects():\n",
    "    for action in he_dataset[subject].keys():\n",
    "        anim = he_dataset[subject][action]\n",
    "        if 'positions' in anim:\n",
    "            positions_3d = []\n",
    "            for cam in anim['cameras']:\n",
    "                pos_3d = world_to_camera(anim['positions'], R=cam['orientation'], t=cam['translation'])\n",
    "                pos_3d[:, 1:] -= pos_3d[:, :1] # Remove global offset, but keep trajectory in first position\n",
    "                positions_3d.append(pos_3d)\n",
    "            anim['positions_3d'] = positions_3d\n",
    "\n",
    "# get 2D keypoints\n",
    "keypoints = np.load(args.dataset_2d_path, allow_pickle=True)\n",
    "keypoints_metadata = keypoints['metadata'].item()\n",
    "keypoints_symmetry = keypoints_metadata['keypoints_symmetry']\n",
    "kps_left, kps_right = list(keypoints_symmetry[0]), list(keypoints_symmetry[1])\n",
    "joints_left, joints_right = list(he_dataset.skeleton().joints_left()), list(he_dataset.skeleton().joints_right())\n",
    "keypoints = keypoints['positions_2d'].item() \n",
    "\n",
    "# convert 2D pose world coordinates to screen coordinates\n",
    "for subject in keypoints.keys():\n",
    "    for action in keypoints[subject]:\n",
    "        for cam_idx, kps in enumerate(keypoints[subject][action]):\n",
    "            # Normalize camera frame\n",
    "            cam = he_dataset.cameras()[subject][cam_idx]\n",
    "            kps[..., :2] = normalize_screen_coordinates(kps[..., :2], w=cam['res_w'], h=cam['res_h'])\n",
    "            keypoints[subject][action][cam_idx] = kps\n",
    "\n",
    "poses_train_3d, poses_train_2d, cameras_train = fetch(args.subjects_train, keypoints, he_dataset, args.actions_train)\n",
    "poses_val_3d, poses_val_2d, cameras_val = fetch(args.subjects_val, keypoints, he_dataset, args.actions_val)\n",
    "\n",
    "train_dataset = PreprocessedDataset(poses_train_2d, poses_train_3d, cameras_train, \n",
    "                                    keypoints_metadata, he_dataset.skeleton(), he_dataset.fps())\n",
    "train_dataloader = DataLoader(train_dataset, batch_size=args.batch_size, num_workers=0, shuffle=True)\n",
    "val_dataset = PreprocessedDataset(poses_val_2d, poses_val_3d, cameras_val,\n",
    "                                  keypoints_metadata, he_dataset.skeleton(), he_dataset.fps())\n",
    "val_dataloader = DataLoader(val_dataset, batch_size=1, num_workers=0, shuffle=False)"
   ]
  },
  {
   "cell_type": "code",
   "execution_count": 38,
   "id": "fe8fd1f2-468b-4e80-b034-2b6a62845e4b",
   "metadata": {},
   "outputs": [],
   "source": [
    "device = 'cuda' if torch.cuda.is_available() else 'cpu'\n",
    "saved_model_fp = 'data/pleasant-shape/model.pth'\n",
    "model = torch.load(saved_model_fp).to(device)\n",
    "_ = model.eval()\n",
    "criterion = mpjpe"
   ]
  },
  {
   "cell_type": "code",
   "execution_count": 40,
   "id": "4c8f68d2-d6ab-443e-a006-37fb097557aa",
   "metadata": {},
   "outputs": [],
   "source": [
    "mx_loss = 0\n",
    "mx_idx = -1\n",
    "for idx, batch in enumerate(val_dataloader):\n",
    "    model_inp = batch[0].to(device)\n",
    "    target = batch[1].to(device)\n",
    "    with torch.no_grad():\n",
    "        preds = model(model_inp)\n",
    "    loss = criterion(preds, target).cpu().item()\n",
    "    if loss > mx_loss:\n",
    "        mx_loss = loss\n",
    "        mx_idx = idx"
   ]
  },
  {
   "cell_type": "code",
   "execution_count": 51,
   "id": "1bfa8727-e143-4042-99d2-bb6c8969e2aa",
   "metadata": {},
   "outputs": [
    {
     "name": "stderr",
     "output_type": "stream",
     "text": [
      "MovieWriter imagemagick unavailable; using Pillow instead.\n"
     ]
    },
    {
     "name": "stdout",
     "output_type": "stream",
     "text": [
      "0/1      \r"
     ]
    }
   ],
   "source": [
    "data_2d = torch.from_numpy(val_dataset[mx_idx][0]).unsqueeze(0).numpy()\n",
    "with torch.no_grad():\n",
    "    preds = model(torch.from_numpy(val_dataset[mx_idx][0]).unsqueeze(0).to(device))\n",
    "pred_3d = preds.cpu().numpy()\n",
    "targ_3d = torch.from_numpy(val_dataset[mx_idx][1]).unsqueeze(0).numpy()\n",
    "cam = {key: val for key, val in val_dataset[mx_idx][2].items()}\n",
    "cam['orientation'] = cam['orientation']\n",
    "cam['translation'] = cam['translation']\n",
    "cam['res_w'] = cam['res_w']\n",
    "cam['res_h'] = cam['res_h']\n",
    "cam['azimuth'] = cam['azimuth']\n",
    "visualize(data_2d.copy(), targ_3d.copy(), pred_3d.copy(), \n",
    "          val_dataset.keypoints_metadata, cam, val_dataset.skeleton, \n",
    "          val_dataset.fps, output_fp='tmp.gif')"
   ]
  },
  {
   "cell_type": "code",
   "execution_count": 13,
   "id": "d060d818-0b95-426a-8568-2ee6978e23aa",
   "metadata": {},
   "outputs": [
    {
     "name": "stderr",
     "output_type": "stream",
     "text": [
      "MovieWriter imagemagick unavailable; using Pillow instead.\n"
     ]
    },
    {
     "name": "stdout",
     "output_type": "stream",
     "text": [
      "14/15      \r"
     ]
    }
   ],
   "source": [
    "data_2d = batch[0][:15].numpy()\n",
    "pred_3d = preds[:15].cpu().numpy()\n",
    "targ_3d = batch[1][:15].numpy()\n",
    "cam = {key: val[0] for key, val in batch[2].items()}\n",
    "cam['orientation'] = cam['orientation'].numpy()\n",
    "cam['translation'] = cam['translation'].numpy()\n",
    "cam['res_w'] = cam['res_w'].item()\n",
    "cam['res_h'] = cam['res_h'].item()\n",
    "cam['azimuth'] = cam['azimuth'].item()\n",
    "visualize(data_2d.copy(), targ_3d.copy(), pred_3d.copy(), \n",
    "          val_dataset.keypoints_metadata, cam, val_dataset.skeleton, \n",
    "          val_dataset.fps, output_fp='tmp.gif')"
   ]
  },
  {
   "cell_type": "code",
   "execution_count": 27,
   "id": "20022abc-f611-4c1f-8a37-8080d364ac48",
   "metadata": {},
   "outputs": [],
   "source": [
    "keypoints = np.load(args.dataset_2d_path, allow_pickle=True)"
   ]
  },
  {
   "cell_type": "code",
   "execution_count": null,
   "id": "d09045bc-f8d3-4d17-8d76-b26da9e83360",
   "metadata": {},
   "outputs": [],
   "source": []
  }
 ],
 "metadata": {
  "kernelspec": {
   "display_name": "myenv",
   "language": "python",
   "name": "myenv"
  },
  "language_info": {
   "codemirror_mode": {
    "name": "ipython",
    "version": 3
   },
   "file_extension": ".py",
   "mimetype": "text/x-python",
   "name": "python",
   "nbconvert_exporter": "python",
   "pygments_lexer": "ipython3",
   "version": "3.10.2"
  }
 },
 "nbformat": 4,
 "nbformat_minor": 5
}
